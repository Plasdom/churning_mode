{
 "cells": [
  {
   "cell_type": "code",
   "execution_count": null,
   "metadata": {},
   "outputs": [],
   "source": [
    "%matplotlib qt\n",
    "from matplotlib import pyplot as plt\n",
    "plt.rcParams[\"figure.figsize\"] = (12, 5)\n",
    "# plt.rcParams.update({\"font.size\": 14})\n",
    "import numpy as np\n",
    "from xbout import open_boutdataset"
   ]
  },
  {
   "cell_type": "code",
   "execution_count": null,
   "metadata": {},
   "outputs": [],
   "source": [
    "#ds_hires = ds.copy(deep=True)"
   ]
  },
  {
   "cell_type": "code",
   "execution_count": null,
   "metadata": {},
   "outputs": [],
   "source": [
    "ds = open_boutdataset(chunks={\"t\": 4},datapath=\"/Users/power8/Documents/01_code/04_bout/churning_mode/data/BOUT.dmp.*.nc\")\n",
    "# ds = open_boutdataset(chunks={\"t\": 4},datapath=\"/Users/power8/Documents/01_code/04_bout/running_churn/data/BOUT.dmp.*.nc\")\n",
    "\n",
    "#Use squeeze() to get rid of the y-dimension, which has length 1 as blob2d does not\n",
    "#simulate the parallel dimension.\n",
    "\n",
    "dx = ds[\"dx\"].isel(y=0).values\n",
    "dy = ds[\"dy\"].isel(x=0).values\n",
    "\n",
    "ds = ds.squeeze(drop=True)\n",
    "\n",
    "# Get rid of existing \"x\" coordinate, which is just the index values.\n",
    "x = \"x\"\n",
    "y = \"y\"\n",
    "ds = ds.drop(\"x\")\n",
    "ds = ds.drop(\"y\")\n",
    "# # # Create a new coordinate, which is length in units of rho_s\n",
    "ds = ds.assign_coords(x=np.arange(ds.sizes[x])*dx)\n",
    "ds = ds.assign_coords(y=np.arange(ds.sizes[\"y\"])*dy)\n",
    "\n",
    "ngc = int((len(ds[\"x\"]) - len(ds[\"y\"]))/2)\n",
    "ds = ds.isel(x=range(ngc,len(ds[\"x\"])-ngc))"
   ]
  },
  {
   "cell_type": "markdown",
   "metadata": {},
   "source": [
    "# Original"
   ]
  },
  {
   "cell_type": "code",
   "execution_count": null,
   "metadata": {},
   "outputs": [],
   "source": [
    "##### ANIMATE LIST OF VARIABLES\n",
    "ds.bout.animate_list([\"omega\", \"P\", \"psi\", \"phi\", \"u_x\", \"u_y\"])\n",
    "# ds.bout.animate_list([\"P\", \"omega\"], vmin=0.5, vmax=1.5,aspect='equal')\n",
    "# ds.bout.animate_list([\"psi\"])\n",
    "#ds.bout.animate_list([ds[\"P\"] * ds[\"x\"]])"
   ]
  },
  {
   "cell_type": "code",
   "execution_count": null,
   "metadata": {},
   "outputs": [],
   "source": [
    "##### PLOT COLOURMAPS OF SEVERAL VARIABLES AT GIVEN TIMESTAMP #####\n",
    "t = -1\n",
    "vars = [\"P\", \"psi\", \"omega\", \"phi\"]\n",
    "fig,ax = plt.subplots(ncols=len(vars))\n",
    "for i,v in enumerate(vars):\n",
    "    if v == \"P\" or v == \"psi\":\n",
    "        vmin = ds[v][0].values.min()\n",
    "        vmax = ds[v][0].values.max()\n",
    "    else:\n",
    "        vmin = None \n",
    "        vmax = None\n",
    "    ax[i].contourf(ds[x],ds[y],ds[v][t].values.T, vmin=vmin, vmax = vmax,levels=20)\n",
    "    ax[i].set_xlabel(x)\n",
    "    ax[i].set_ylabel(y)\n",
    "    ax[i].set_title(v)\n",
    "fig.tight_layout()"
   ]
  },
  {
   "cell_type": "code",
   "execution_count": null,
   "metadata": {},
   "outputs": [],
   "source": [
    "##### ANIMATE MIXED COLOURMAPS AND LINE PLOTS #####\n",
    "offset = -14\n",
    "ngc = 3\n",
    "nx = 32 \n",
    "ny = 32\n",
    "ds.bout.animate_list([\"phi\",\n",
    "                      \"omega\",\n",
    "                      ds[\"phi\"].isel(y=int(ny/2) + offset), \n",
    "                      ds[\"omega\"].isel(y=int(nx/2) + offset),\n",
    "                      ds[\"phi\"].isel(x=int(ny/2) + ngc + offset), \n",
    "                      ds[\"omega\"].isel(x=int(nx/2) + ngc + offset),\n",
    "                      ],\n",
    "                      ncols=2,\n",
    "                    )"
   ]
  },
  {
   "cell_type": "code",
   "execution_count": null,
   "metadata": {},
   "outputs": [],
   "source": [
    "##### ANIMATE CONTOUR PLOTS OF PSI #####\n",
    "from matplotlib import animation\n",
    "# Generate grid for plotting\n",
    "xmin = 0\n",
    "xmax = -1\n",
    "xvals = ds[x][xmin:xmax]\n",
    "yvals = ds[y][xmin:xmax]\n",
    "v = \"P\"\n",
    "var = ds[v].values[:,xmin:xmax,xmin:xmax]\n",
    "\n",
    "fig = plt.figure()\n",
    "ax = plt.axes(xlim=(0, xvals.values.max()), ylim=(0, yvals.values.max()),aspect='equal')  \n",
    "vmin = var[0].min()\n",
    "vmax = var[0].max()\n",
    "levels = np.sort(list(np.linspace(vmin,vmax,20)) + [0])\n",
    "\n",
    "# animation function\n",
    "plot_every = 5\n",
    "def animate(i): \n",
    "    ax.clear()\n",
    "    z = var[plot_every*i].T\n",
    "    cont = ax.contourf(xvals, yvals, z, vmin=vmin, vmax=vmax, levels=levels)\n",
    "    if (i == 0):\n",
    "        ax.set_title(plot_every*i)\n",
    "    else:\n",
    "        ax.set_title(plot_every*i)\n",
    "    ax.set_xlabel(x)\n",
    "    ax.set_ylabel(y)\n",
    "\n",
    "    return cont  \n",
    "\n",
    "anim = animation.FuncAnimation(fig, animate, frames=int(var.shape[0]/plot_every))\n",
    "# anim.save(\"churn_and_restore.gif\")\n"
   ]
  },
  {
   "cell_type": "code",
   "execution_count": null,
   "metadata": {},
   "outputs": [],
   "source": [
    "##### PLOT CONTOUR OF PSI AT FIRST AND LAST TIMESTAMP #####\n",
    "fig,ax = plt.subplots(1)\n",
    "levels = 20\n",
    "v = \"psi\"\n",
    "t1 = 0\n",
    "t2 = -1\n",
    "ax.contour(ds[x],ds[y],ds[v][t1].values.T, levels=levels)\n",
    "ax.contour(ds[x],ds[y],ds[v][t2].values.T, linestyles=\"--\", levels=levels)"
   ]
  },
  {
   "cell_type": "code",
   "execution_count": null,
   "metadata": {},
   "outputs": [],
   "source": [
    "##### PLOT CONSERVED QUANTITIES ######\n",
    "def integrate_dxdy(ds, variable):\n",
    "    I = np.zeros(len(ds.t))\n",
    "    for t in range(len(ds.t)):\n",
    "        I[t] = np.sum(ds.dx * ds.dy * variable[t])\n",
    "    return I\n",
    "\n",
    "def get_tot_pol_flux(ds):\n",
    "    # [psi_0 a_mid^2]\n",
    "    tot_pol_flux = integrate_dxdy(ds, ds[\"psi\"])\n",
    "    return tot_pol_flux\n",
    "\n",
    "def get_tot_pressure(ds):\n",
    "    # [P_0 a_mid^2]\n",
    "    a_mid = ds.metadata[\"a_mid\"]\n",
    "    P_0 = ds.metadata[\"P_0\"]\n",
    "    tot_pressure = P_0 * a_mid**2 * integrate_dxdy(ds, ds[\"P\"]) \n",
    "    return tot_pressure\n",
    "\n",
    "def get_tot_energy(ds):\n",
    "    # [P_0 a_mid^2]\n",
    "\n",
    "    ddx_psi = ds[\"psi\"].differentiate(\"x\")\n",
    "    ddy_psi = ds[\"psi\"].differentiate(\"y\")\n",
    "\n",
    "    beta_p = ds.metadata[\"beta_p\"]\n",
    "    epsilon = ds.metadata[\"epsilon\"]\n",
    "    R_0 = ds.metadata[\"R_0\"]\n",
    "    a_mid = ds.metadata[\"a_mid\"]\n",
    "    psi_0 = ds.metadata[\"psi_0\"]\n",
    "    P_0 = ds.metadata[\"P_0\"]\n",
    "    B_pmid = ds.metadata[\"B_pmid\"]\n",
    "\n",
    "    x_c = (ds[\"x\"] - 0.5*np.sum(ds[\"dx\"].isel(x=0)))\n",
    "    B_px = ddx_psi / (1 + epsilon * x_c)\n",
    "    B_py = ddy_psi / (1 + epsilon * x_c)\n",
    "    P = ds[\"P\"]\n",
    "    u_x = ds[\"u_x\"]\n",
    "    u_y = ds[\"u_y\"]\n",
    "    mu_0 = 1.256637e-6\n",
    "    \n",
    "    mag_energy = 0.2*(P_0/beta_p) * a_mid**2 * integrate_dxdy(ds, B_px**2 + B_py**2) \n",
    "    kin_energy = 0.5 * a_mid ** 2 * P_0 * integrate_dxdy(ds, u_x**2 + u_y**2) \n",
    "    pot_energy = -P_0 * epsilon * a_mid **2 * integrate_dxdy(ds, P * x_c)\n",
    "    \n",
    "    return mag_energy/(P_0 * a_mid**2), kin_energy/(P_0 * a_mid**2), pot_energy/(P_0 * a_mid**2)\n",
    "\n",
    "nxg = 3\n",
    "nx = len(ds.x)\n",
    "ds_trimmed = ds.isel(x=range(nxg,nx-nxg))\n",
    "tot_pol_flux = get_tot_pol_flux(ds_trimmed)\n",
    "tot_pressure = get_tot_pressure(ds_trimmed)\n",
    "M, K, Pi = get_tot_energy(ds_trimmed)\n",
    "\n",
    "fig,ax = plt.subplots(4, sharex=True)\n",
    "ax[0].plot(ds_trimmed[r\"t\"], tot_pol_flux)\n",
    "ax[0].set_title(r\"$\\psi$\")\n",
    "ax[0].set_ylabel(r\"[$\\psi_0 a_{mid}^2$]\")\n",
    "ax[1].plot(ds_trimmed[r\"t\"], tot_pressure)\n",
    "ax[1].set_title(r\"$P$\")\n",
    "ax[1].set_ylabel(r\"[$P_0 a_{mid}^2$]\")\n",
    "ax[3].plot(ds_trimmed[r\"t\"], M - M[0], \"-\", label=r\"$M(t)-M(t=0)$\")\n",
    "ax[3].plot(ds_trimmed[r\"t\"], K - K[0], \"-\", label=r\"$K(t)-K(t=0)$\")\n",
    "ax[3].plot(ds_trimmed[r\"t\"], Pi - Pi[0], \"-\", label=r\"$\\Pi(t)-\\Pi(t=0)$\")\n",
    "ax[3].plot(ds_trimmed[r\"t\"], (M-M[0]) + (K-K[0]) + (Pi-Pi[0]), \"--\", color=r\"black\", label=r\"$E(t)-E(t=0)$\")\n",
    "ax[3].set_ylabel(r\"[$P_0 a_{mid}^2$]\")\n",
    "ax[2].plot(ds_trimmed[r\"t\"], (M) + (K) + (Pi), \"-\", color=r\"black\")\n",
    "ax[2].set_title(r\"$E=M+K+\\Pi$\")\n",
    "ax[2].set_ylabel(r\"[$P_0 a_{mid}^2$]\")\n",
    "# ax[3].set_title(\"$E=M+K+\\Pi$\")\n",
    "[ax[i].legend(loc=\"lower left\") for i in range(len(ax))]\n",
    "ax[-1].set_xlabel(\"$t\\ [t_0]$\")\n",
    "[a.grid() for a in ax]\n",
    "fig.tight_layout()"
   ]
  },
  {
   "cell_type": "markdown",
   "metadata": {},
   "source": [
    "# Staggered"
   ]
  },
  {
   "cell_type": "code",
   "execution_count": null,
   "metadata": {},
   "outputs": [],
   "source": [
    "ds.bout.animate_list([\"omega\", \"P\", \"psi\", \"phi\", \"u_x\", \"u_y\"])"
   ]
  },
  {
   "cell_type": "code",
   "execution_count": null,
   "metadata": {},
   "outputs": [],
   "source": [
    "##### ANIMATE MIXED COLOURMAPS AND LINE PLOTS #####\n",
    "offset = -28\n",
    "ds.bout.animate_list([\"phi\",\n",
    "                      \"omega\",\n",
    "                      ds[\"u_x\"].isel(y=32+offset), \n",
    "                      ds[\"u_x\"].isel(x=35+offset),\n",
    "                      ds[\"u_ys\"].isel(y=32+offset), \n",
    "                      ds[\"u_ys\"].isel(x=35+offset),\n",
    "                      ],\n",
    "                      ncols=2,\n",
    "                    )\n"
   ]
  },
  {
   "cell_type": "code",
   "execution_count": null,
   "metadata": {},
   "outputs": [],
   "source": []
  }
 ],
 "metadata": {
  "kernelspec": {
   "display_name": "bout",
   "language": "python",
   "name": "python3"
  },
  "language_info": {
   "codemirror_mode": {
    "name": "ipython",
    "version": 3
   },
   "file_extension": ".py",
   "mimetype": "text/x-python",
   "name": "python",
   "nbconvert_exporter": "python",
   "pygments_lexer": "ipython3",
   "version": "3.12.4"
  }
 },
 "nbformat": 4,
 "nbformat_minor": 2
}
