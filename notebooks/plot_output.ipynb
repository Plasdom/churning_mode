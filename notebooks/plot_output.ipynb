{
 "cells": [
  {
   "cell_type": "code",
   "execution_count": 1,
   "metadata": {},
   "outputs": [],
   "source": [
    "%matplotlib qt\n",
    "from matplotlib import pyplot as plt\n",
    "plt.rcParams[\"figure.figsize\"] = (12, 5)\n",
    "# plt.rcParams.update({\"font.size\": 14})\n",
    "import numpy as np\n",
    "from xbout import open_boutdataset"
   ]
  },
  {
   "cell_type": "code",
   "execution_count": 2,
   "metadata": {},
   "outputs": [
    {
     "name": "stdout",
     "output_type": "stream",
     "text": [
      "Read in:\n",
      "<xbout.BoutDataset>\n",
      "Contains:\n",
      "<xarray.Dataset>\n",
      "Dimensions:   (x: 520, y: 1, t: 101, z: 512)\n",
      "Coordinates:\n",
      "    dx        (x, y) float64 dask.array<chunksize=(131, 1), meta=np.ndarray>\n",
      "    dy        (x, y) float64 dask.array<chunksize=(131, 1), meta=np.ndarray>\n",
      "    dz        (x, y) float64 dask.array<chunksize=(131, 1), meta=np.ndarray>\n",
      "  * t         (t) float64 0.0 50.0 100.0 150.0 ... 4.9e+03 4.95e+03 5e+03\n",
      "  * x         (x) int64 0 1 2 3 4 5 6 7 8 ... 512 513 514 515 516 517 518 519\n",
      "  * y         (y) float64 0.5\n",
      "  * z         (z) float64 0.0 0.3 0.6 0.9 1.2 ... 152.1 152.4 152.7 153.0 153.3\n",
      "Data variables: (12/24)\n",
      "    Bxy       (x, y) float64 dask.array<chunksize=(131, 1), meta=np.ndarray>\n",
      "    G1        (x, y) float64 dask.array<chunksize=(131, 1), meta=np.ndarray>\n",
      "    G2        (x, y) float64 dask.array<chunksize=(131, 1), meta=np.ndarray>\n",
      "    G3        (x, y) float64 dask.array<chunksize=(131, 1), meta=np.ndarray>\n",
      "    J         (x, y) float64 dask.array<chunksize=(131, 1), meta=np.ndarray>\n",
      "    g11       (x, y) float64 dask.array<chunksize=(131, 1), meta=np.ndarray>\n",
      "    ...        ...\n",
      "    omega     (t, x, y, z) float64 dask.array<chunksize=(4, 131, 1, 512), meta=np.ndarray>\n",
      "    phi       (t, x, y, z) float64 dask.array<chunksize=(4, 131, 1, 512), meta=np.ndarray>\n",
      "    t_array   (t) float64 dask.array<chunksize=(4,), meta=np.ndarray>\n",
      "    ncalls    (t) int32 dask.array<chunksize=(4,), meta=np.ndarray>\n",
      "    ncalls_e  (t) int32 dask.array<chunksize=(4,), meta=np.ndarray>\n",
      "    ncalls_i  (t) int32 dask.array<chunksize=(4,), meta=np.ndarray>\n",
      "Attributes:\n",
      "    metadata:  {'BOUT_VERSION': 5.11, 'MXG': 2, 'MXSUB': 129, 'MYG': 0, 'MYSU...\n",
      "    options:   None\n",
      "    geometry:  \n",
      "Metadata:\n",
      "{   'BOUT_VERSION': 5.11,\n",
      "    'MXG': 2,\n",
      "    'MXSUB': 129,\n",
      "    'MYG': 0,\n",
      "    'MYSUB': 1,\n",
      "    'MZ': 512,\n",
      "    'MZG': 0,\n",
      "    'MZSUB': 512,\n",
      "    'NXPE': 4,\n",
      "    'NYPE': 1,\n",
      "    'NZPE': 1,\n",
      "    'Omega_i': 16817636.472705454,\n",
      "    'ZMAX': 1.0,\n",
      "    'ZMIN': 0.0,\n",
      "    'bout_tdim': 't',\n",
      "    'bout_xdim': 'x',\n",
      "    'bout_ydim': 'y',\n",
      "    'bout_zdim': 'z',\n",
      "    'c_s': 15500.062890520088,\n",
      "    'fine_interpolation_factor': 8,\n",
      "    'has_caliper': 0,\n",
      "    'has_cuda': 0,\n",
      "    'has_fftw': 1,\n",
      "    'has_gettext': 0,\n",
      "    'has_hypre': 0,\n",
      "    'has_lapack': 0,\n",
      "    'has_netcdf': 1,\n",
      "    'has_petsc': 1,\n",
      "    'has_pretty_function': 1,\n",
      "    'has_pvode': 1,\n",
      "    'has_raja': 0,\n",
      "    'has_scorep': 0,\n",
      "    'has_slepc': 0,\n",
      "    'has_sundials': 0,\n",
      "    'has_umpire': 0,\n",
      "    'hist_hi': 99,\n",
      "    'is_restart': 0,\n",
      "    'iteration': 99,\n",
      "    'ixseps1': 520,\n",
      "    'ixseps2': 520,\n",
      "    'jyseps1_1': -1,\n",
      "    'jyseps1_2': 0,\n",
      "    'jyseps2_1': 0,\n",
      "    'jyseps2_2': 0,\n",
      "    'keep_xboundaries': 1,\n",
      "    'keep_yboundaries': 0,\n",
      "    'nx': 520,\n",
      "    'ny': 1,\n",
      "    'ny_inner': 0,\n",
      "    'nz': 512,\n",
      "    'rho_s': 0.000921655246602354,\n",
      "    'run_id': '1c4a1195-0df2-4691-af34-561a745ffe67',\n",
      "    'run_restart_from': 'zzzzzzzzzzzzzzzzzzzzzzzzzzzzzzzzzzzz',\n",
      "    'tt': 5000.0,\n",
      "    'use_backtrace': 0,\n",
      "    'use_check_level': 2,\n",
      "    'use_color': 1,\n",
      "    'use_metric_3d': 0,\n",
      "    'use_msgstack': 1,\n",
      "    'use_openmp': 0,\n",
      "    'use_openmp_schedule': 'static',\n",
      "    'use_output_debug': 0,\n",
      "    'use_sigfpe': 0,\n",
      "    'use_signal': 1,\n",
      "    'use_track': 1,\n",
      "    'zperiod': 1}\n",
      "\n"
     ]
    },
    {
     "name": "stderr",
     "output_type": "stream",
     "text": [
      "/opt/miniconda3/envs/bout/lib/python3.12/site-packages/xarray/core/concat.py:527: FutureWarning: unique with argument that is not not a Series, Index, ExtensionArray, or np.ndarray is deprecated and will raise in a future version.\n",
      "  common_dims = tuple(pd.unique([d for v in vars for d in v.dims]))\n",
      "/opt/miniconda3/envs/bout/lib/python3.12/site-packages/xbout/load.py:350: UserWarning: No geometry type found, no physical coordinates will be added\n",
      "  warn(\"No geometry type found, no physical coordinates will be added\")\n",
      "/opt/miniconda3/envs/bout/lib/python3.12/site-packages/xbout/geometries.py:225: UserWarning: Size of toroidal domain as calculated from nz*dz (<xarray.DataArray 'dz' ()>\n",
      "dask.array<sub, shape=(), dtype=float64, chunksize=(), chunktype=numpy.ndarray>\n",
      "Attributes:\n",
      "    cell_location:  CELL_CENTRE\n",
      "    direction_y:    Standard\n",
      "    direction_z:    Average\n",
      "    source:         Coordinates\n",
      "    metadata:       {'BOUT_VERSION': 5.11, 'MXG': 2, 'MXSUB': 129, 'MYG': 0, ...\n",
      "    options:        None\n",
      "    geometry:        is not the same as 2pi*(ZMAX - ZMIN) (6.283185307179586): using value from dz\n",
      "  warn(\n"
     ]
    }
   ],
   "source": [
    "ds = open_boutdataset(chunks={\"t\": 4},datapath=\"/Users/power8/Documents/01_code/04_bout/churning_mode/data/BOUT.dmp.*.nc\")\n",
    "\n",
    "# Use squeeze() to get rid of the y-dimension, which has length 1 as blob2d does not\n",
    "# simulate the parallel dimension.\n",
    "ds = ds.squeeze(drop=True)"
   ]
  },
  {
   "cell_type": "code",
   "execution_count": null,
   "metadata": {},
   "outputs": [],
   "source": [
    "dx = ds[\"dx\"].isel(x=0).values\n",
    "\n",
    "# Get rid of existing \"x\" coordinate, which is just the index values.\n",
    "ds = ds.drop(\"x\")\n",
    "\n",
    "# Create a new coordinate, which is length in units of rho_s\n",
    "ds = ds.assign_coords(x=np.arange(ds.sizes[\"x\"])*dx)"
   ]
  },
  {
   "cell_type": "code",
   "execution_count": null,
   "metadata": {},
   "outputs": [],
   "source": [
    "ds_initial = ds.isel(t=0)\n",
    "plt.figure()\n",
    "ax = plt.subplot(131)\n",
    "# ax.set_aspect(\"equal\")\n",
    "ds_initial[\"n\"].plot(x=\"x\", y=\"z\")\n",
    "ax = plt.subplot(132)\n",
    "# ax.set_aspect(\"equal\")\n",
    "ds_initial[\"omega\"].plot(x=\"x\", y=\"z\")\n",
    "ax = plt.subplot(133)\n",
    "# ax.set_aspect(\"equal\")\n",
    "ds_initial[\"phi\"].plot(x=\"x\", y=\"z\")\n",
    "plt.tight_layout()"
   ]
  },
  {
   "cell_type": "code",
   "execution_count": null,
   "metadata": {},
   "outputs": [],
   "source": [
    "tind = 10\n",
    "\n",
    "# Uses xarray methods to plot simple slices\n",
    "plt.figure()\n",
    "ax = plt.subplot(131)\n",
    "ax.set_aspect(\"equal\")\n",
    "ds.isel(t=tind)[\"n\"].plot(x=\"x\", y=\"z\")\n",
    "ax = plt.subplot(132)\n",
    "ax.set_aspect(\"equal\")\n",
    "ds.isel(t=tind)[\"omega\"].plot(x=\"x\", y=\"z\")\n",
    "ax = plt.subplot(133)\n",
    "ax.set_aspect(\"equal\")\n",
    "ds.isel(t=tind)[\"phi\"].plot(x=\"x\", y=\"z\")"
   ]
  },
  {
   "cell_type": "code",
   "execution_count": null,
   "metadata": {},
   "outputs": [],
   "source": [
    "ds[\"omega\"].bout.animate2D(aspect=\"equal\")"
   ]
  },
  {
   "cell_type": "code",
   "execution_count": 4,
   "metadata": {},
   "outputs": [
    {
     "name": "stdout",
     "output_type": "stream",
     "text": [
      "warning: adding timeline slider to gridspec failed, adding in independent axes. tight_layout() will ignore the slider.\n",
      "warning: adding play/pause button to gridspec failed, adding in independent axes. tight_layout() will ignore the button.\n"
     ]
    },
    {
     "data": {
      "text/plain": [
       "<animatplot.animation.Animation at 0x32502e6c0>"
      ]
     },
     "execution_count": 4,
     "metadata": {},
     "output_type": "execute_result"
    }
   ],
   "source": [
    "ds.bout.animate_list([\"n\", \"omega\", \"phi\"], ncols=3, cmap=\"plasma\")"
   ]
  },
  {
   "cell_type": "code",
   "execution_count": null,
   "metadata": {},
   "outputs": [],
   "source": []
  }
 ],
 "metadata": {
  "kernelspec": {
   "display_name": "bout",
   "language": "python",
   "name": "python3"
  },
  "language_info": {
   "codemirror_mode": {
    "name": "ipython",
    "version": 3
   },
   "file_extension": ".py",
   "mimetype": "text/x-python",
   "name": "python",
   "nbconvert_exporter": "python",
   "pygments_lexer": "ipython3",
   "version": "3.12.4"
  }
 },
 "nbformat": 4,
 "nbformat_minor": 2
}
