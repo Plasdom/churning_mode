{
 "cells": [
  {
   "cell_type": "code",
   "execution_count": null,
   "metadata": {},
   "outputs": [],
   "source": [
    "%matplotlib qt\n",
    "from matplotlib import pyplot as plt\n",
    "plt.rcParams[\"figure.figsize\"] = (12, 5)\n",
    "# plt.rcParams.update({\"font.size\": 14})\n",
    "import numpy as np\n",
    "from xbout import open_boutdataset"
   ]
  },
  {
   "cell_type": "code",
   "execution_count": null,
   "metadata": {},
   "outputs": [],
   "source": [
    "ds = open_boutdataset(chunks={\"t\": 4},datapath=\"/Users/power8/Documents/01_code/04_bout/churning_mode/data/BOUT.dmp.*.nc\")\n",
    "\n",
    "# Use squeeze() to get rid of the y-dimension, which has length 1 as blob2d does not\n",
    "# simulate the parallel dimension.\n",
    "ds = ds.squeeze(drop=True)\n",
    "dx = ds[\"dx\"].isel(x=0).values\n",
    "\n",
    "x = \"x\"\n",
    "y = \"y\"\n",
    "\n",
    "# Get rid of existing \"x\" coordinate, which is just the index values.\n",
    "ds = ds.drop(x)\n",
    "ds = ds.drop(y)\n",
    "\n",
    "# Create a new coordinate, which is length in units of rho_s\n",
    "ds = ds.assign_coords(x=np.arange(ds.sizes[x])*dx)\n",
    "ds = ds.assign_coords(y=np.arange(ds.sizes[y])*dx)"
   ]
  },
  {
   "cell_type": "code",
   "execution_count": null,
   "metadata": {},
   "outputs": [],
   "source": [
    "##### ANIMATE LIST OF VARIABLES\n",
    "ds.bout.animate_list([\"omega\", \"P\", \"psi\", \"phi\", \"u_x\", \"u_y\"])\n",
    "# ds.bout.animate_list([\"P\", \"omega\"], vmin=0.5, vmax=1.5,aspect='equal')\n",
    "# ds.bout.animate_list([\"omega\"], vmin=0,vmax=0.1)"
   ]
  },
  {
   "cell_type": "code",
   "execution_count": null,
   "metadata": {},
   "outputs": [],
   "source": [
    "##### PLOT COLOURMAPS OF SEVERAL VARIABLES AT GIVEN TIMESTAMP #####\n",
    "t = -1\n",
    "vars = [\"P\", \"psi\", \"omega\", \"phi\"]\n",
    "fig,ax = plt.subplots(ncols=len(vars))\n",
    "for i,v in enumerate(vars):\n",
    "    if v == \"P\" or v == \"psi\":\n",
    "        vmin = ds[v][0].values.min()\n",
    "        vmax = ds[v][0].values.max()\n",
    "    else:\n",
    "        vmin = None \n",
    "        vmax = None\n",
    "    ax[i].contourf(ds[x],ds[y],ds[v][t].values.T, vmin=vmin, vmax = vmax,levels=20)\n",
    "    ax[i].set_xlabel(x)\n",
    "    ax[i].set_ylabel(y)\n",
    "    ax[i].set_title(v)\n",
    "fig.tight_layout()"
   ]
  },
  {
   "cell_type": "code",
   "execution_count": null,
   "metadata": {},
   "outputs": [],
   "source": [
    "##### ANIMATE MIXED COLOURMAPS AND LINE PLOTS #####\n",
    "ds.bout.animate_list([\"P\",\"psi\",ds[\"phi\"].isel(x=50)])"
   ]
  },
  {
   "cell_type": "code",
   "execution_count": null,
   "metadata": {},
   "outputs": [],
   "source": [
    "##### ANIMATE CONTOUR PLOTS OF PSI #####\n",
    "from matplotlib import animation\n",
    "# Generate grid for plotting\n",
    "xmin = 52\n",
    "xmax = 80\n",
    "ymin = xmin-2\n",
    "ymax = xmax-2\n",
    "xvals = ds[x][xmin:xmax]\n",
    "yvals = ds[y][xmin:xmax]\n",
    "v = \"psi\"\n",
    "var = ds[v].values[10:50,xmin:xmax,xmin:xmax]\n",
    "\n",
    "fig = plt.figure()\n",
    "ax = plt.axes(xlim=(0, xvals.values.max()), ylim=(0, yvals.values.max()),aspect='equal')  \n",
    "vmin = var[0].min()\n",
    "vmax = var[0].max()\n",
    "levels = np.sort(list(np.linspace(vmin,vmax,20)) + [0])\n",
    "\n",
    "# animation function\n",
    "def animate(i): \n",
    "    ax.clear()\n",
    "    z = var[i].T\n",
    "    cont = ax.contourf(xvals, yvals, z, vmin=vmin, vmax=vmax, levels=levels)\n",
    "    if (i == 0):\n",
    "        ax.set_title(i)\n",
    "    else:\n",
    "        ax.set_title(i)\n",
    "    ax.set_xlabel(x)\n",
    "    ax.set_ylabel(y)\n",
    "\n",
    "    return cont  \n",
    "\n",
    "anim = animation.FuncAnimation(fig, animate, frames=var.shape[0])\n",
    "anim.save(\"churn.gif\")\n"
   ]
  },
  {
   "cell_type": "code",
   "execution_count": null,
   "metadata": {},
   "outputs": [],
   "source": [
    "##### PLOT CONTOUR OF PSI AT FIRST AND LAST TIMESTAMP #####\n",
    "fig,ax = plt.subplots(1)\n",
    "levels = 20\n",
    "v = \"psi\"\n",
    "t1 = 0\n",
    "t2 = 3\n",
    "ax.contour(ds[x],ds[y],ds[v][t1].values.T, levels=levels)\n",
    "ax.contour(ds[x],ds[y],ds[v][t2].values.T, linestyles=\"--\", levels=levels)"
   ]
  }
 ],
 "metadata": {
  "kernelspec": {
   "display_name": "bout",
   "language": "python",
   "name": "python3"
  },
  "language_info": {
   "codemirror_mode": {
    "name": "ipython",
    "version": 3
   },
   "file_extension": ".py",
   "mimetype": "text/x-python",
   "name": "python",
   "nbconvert_exporter": "python",
   "pygments_lexer": "ipython3",
   "version": "3.12.4"
  }
 },
 "nbformat": 4,
 "nbformat_minor": 2
}
